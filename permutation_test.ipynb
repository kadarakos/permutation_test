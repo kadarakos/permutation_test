{
 "cells": [
  {
   "cell_type": "code",
   "execution_count": 1,
   "metadata": {},
   "outputs": [],
   "source": [
    "from sklearn.datasets import load_iris\n",
    "from sklearn.model_selection import permutation_test_score\n",
    "from sklearn.dummy import DummyClassifier\n",
    "from sklearn.ensemble import HistGradientBoostingClassifier"
   ]
  },
  {
   "cell_type": "code",
   "execution_count": 2,
   "metadata": {},
   "outputs": [],
   "source": [
    "bunch = load_iris()\n",
    "X, y = bunch.data, bunch.target\n",
    "dummy = DummyClassifier()\n",
    "histgrad = HistGradientBoostingClassifier()"
   ]
  },
  {
   "cell_type": "code",
   "execution_count": 3,
   "metadata": {},
   "outputs": [
    {
     "name": "stdout",
     "output_type": "stream",
     "text": [
      "Accuracy for DummyClassifier: 0.33333\n",
      "p-value for DummyClassifier: 1.00000\n"
     ]
    }
   ],
   "source": [
    "score, perm_scores, p = permutation_test_score(dummy, X, y)\n",
    "print(f\"Accuracy for DummyClassifier: {score:.5f}\")\n",
    "print(f\"p-value for DummyClassifier: {p:.5f}\")"
   ]
  },
  {
   "cell_type": "markdown",
   "metadata": {},
   "source": [
    "The high $p$-value indicates that either there is no dependence between the features and the labels or that the DummyClassifier cannot make use of such dependencies. We do know, however, that the DummyClassifier predicts the majorty class meaning that its predictions are **independent** of the features. "
   ]
  },
  {
   "cell_type": "code",
   "execution_count": 4,
   "metadata": {},
   "outputs": [
    {
     "name": "stdout",
     "output_type": "stream",
     "text": [
      "Accuracy for HistGradientBoostingClassifier: 0.94667\n",
      "P-value for HistGradientBoostingClassifier: 0.00990\n"
     ]
    }
   ],
   "source": [
    "score, perm_score, p = permutation_test_score(histgrad, X, y, n_jobs=-1)\n",
    "print(f\"Accuracy for HistGradientBoostingClassifier: {score:.5f}\")\n",
    "print(f\"P-value for HistGradientBoostingClassifier: {p:.5f}\")"
   ]
  },
  {
   "cell_type": "markdown",
   "metadata": {},
   "source": [
    "`HistGradientBoostingClassifier` is an ensemble method that iteratively grows successive trees to minimize the error of preceding trees. This method does take the features into consideration. The $p$-value is computed as `(np.sum(permutation_scores >= score) + 1.0) / (n_permutations + 1)`: the percentage of the times where the classifier achieves the same score or greater when trained on label-permuted data as opposed to the original data. The lowest $p$-value achievable with the `permutation_test_score` implementation with `n_permutations=100` is: $\\frac{(0 + 1)}{(100 + 1)} = 0.0099$. This is the result we observe. We can repeat the experiment with a larger number of trials and observe a lower $p$-value:\n"
   ]
  },
  {
   "cell_type": "code",
   "execution_count": 5,
   "metadata": {},
   "outputs": [
    {
     "name": "stdout",
     "output_type": "stream",
     "text": [
      "Accuracy for HistGradientBoostingClassifier: 0.94667\n",
      "P-value for HistGradientBoostingClassifier: 0.00100\n"
     ]
    }
   ],
   "source": [
    "score, perm_score, p = permutation_test_score(\n",
    "    histgrad, X, y, n_permutations=1000, n_jobs=-1\n",
    ")\n",
    "print(f\"Accuracy for HistGradientBoostingClassifier: {score:.5f}\")\n",
    "print(f\"P-value for HistGradientBoostingClassifier: {p:.5f}\")"
   ]
  },
  {
   "cell_type": "markdown",
   "metadata": {},
   "source": [
    "The small $p$-value allows us to reject the null hypothesis that the features and labels are independent. In other words, it suggests that there is a statistically significant assiciation between features and labels. The `HistGradientBoostingClassifier` successfully made use of these dependencies to achieve a high mean-accuracy. "
   ]
  }
 ],
 "metadata": {
  "kernelspec": {
   "display_name": "jelly",
   "language": "python",
   "name": "jelly"
  },
  "language_info": {
   "codemirror_mode": {
    "name": "ipython",
    "version": 3
   },
   "file_extension": ".py",
   "mimetype": "text/x-python",
   "name": "python",
   "nbconvert_exporter": "python",
   "pygments_lexer": "ipython3",
   "version": "3.11.4"
  }
 },
 "nbformat": 4,
 "nbformat_minor": 4
}
